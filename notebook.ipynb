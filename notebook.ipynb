{
 "cells": [
  {
   "cell_type": "markdown",
   "metadata": {},
   "source": [
    "# __Classifying classical and vernacular Chinese text with a random forest__"
   ]
  },
  {
   "cell_type": "markdown",
   "metadata": {},
   "source": [
    "### Our goal is to create a classifier that can distinguish between classical and vernacular Chinese, given a labeled dataset.\n",
    " - We will use a labeled training set with sentences written in either classical or vernacular Chinese, and another unlabeled set. \n",
    " - Sentences in classical Chinese are taken from works such as the _Records of the Grand Historian_ and _Liaozhai Zhiyi_, and those in vernacular Chinese are taken from 'modern,' annotated versions of those works.\n"
   ]
  },
  {
   "cell_type": "markdown",
   "metadata": {},
   "source": [
    "#### First we need to load our data:"
   ]
  },
  {
   "cell_type": "code",
   "execution_count": 1,
   "metadata": {},
   "outputs": [
    {
     "data": {
      "text/html": [
       "<div>\n",
       "<style scoped>\n",
       "    .dataframe tbody tr th:only-of-type {\n",
       "        vertical-align: middle;\n",
       "    }\n",
       "\n",
       "    .dataframe tbody tr th {\n",
       "        vertical-align: top;\n",
       "    }\n",
       "\n",
       "    .dataframe thead th {\n",
       "        text-align: right;\n",
       "    }\n",
       "</style>\n",
       "<table border=\"1\" class=\"dataframe\">\n",
       "  <thead>\n",
       "    <tr style=\"text-align: right;\">\n",
       "      <th></th>\n",
       "      <th>id</th>\n",
       "      <th>text</th>\n",
       "      <th>y</th>\n",
       "    </tr>\n",
       "  </thead>\n",
       "  <tbody>\n",
       "    <tr>\n",
       "      <th>0</th>\n",
       "      <td>0</td>\n",
       "      <td>来扰乱天子的边防</td>\n",
       "      <td>0</td>\n",
       "    </tr>\n",
       "    <tr>\n",
       "      <th>1</th>\n",
       "      <td>1</td>\n",
       "      <td>崤山以东地区虽然混乱</td>\n",
       "      <td>0</td>\n",
       "    </tr>\n",
       "    <tr>\n",
       "      <th>2</th>\n",
       "      <td>2</td>\n",
       "      <td>秦昭王闻之 使人遗赵王书 愿以十五城请易璧</td>\n",
       "      <td>1</td>\n",
       "    </tr>\n",
       "    <tr>\n",
       "      <th>3</th>\n",
       "      <td>3</td>\n",
       "      <td>臣不胜受恩感激</td>\n",
       "      <td>1</td>\n",
       "    </tr>\n",
       "    <tr>\n",
       "      <th>4</th>\n",
       "      <td>4</td>\n",
       "      <td>现在如果把东西寄存在别人处</td>\n",
       "      <td>0</td>\n",
       "    </tr>\n",
       "    <tr>\n",
       "      <th>5</th>\n",
       "      <td>5</td>\n",
       "      <td>南北朝所以不治 文采胜质厚也</td>\n",
       "      <td>1</td>\n",
       "    </tr>\n",
       "    <tr>\n",
       "      <th>6</th>\n",
       "      <td>6</td>\n",
       "      <td>而流贼进攻更急 城里有许多不同的意见</td>\n",
       "      <td>0</td>\n",
       "    </tr>\n",
       "    <tr>\n",
       "      <th>7</th>\n",
       "      <td>7</td>\n",
       "      <td>吾上有三兄 皆不幸早世</td>\n",
       "      <td>1</td>\n",
       "    </tr>\n",
       "    <tr>\n",
       "      <th>8</th>\n",
       "      <td>8</td>\n",
       "      <td>没有人不讲究熏衣剃面</td>\n",
       "      <td>0</td>\n",
       "    </tr>\n",
       "    <tr>\n",
       "      <th>9</th>\n",
       "      <td>9</td>\n",
       "      <td>王曰 善</td>\n",
       "      <td>1</td>\n",
       "    </tr>\n",
       "  </tbody>\n",
       "</table>\n",
       "</div>"
      ],
      "text/plain": [
       "   id                   text  y\n",
       "0   0               来扰乱天子的边防  0\n",
       "1   1             崤山以东地区虽然混乱  0\n",
       "2   2  秦昭王闻之 使人遗赵王书 愿以十五城请易璧  1\n",
       "3   3                臣不胜受恩感激  1\n",
       "4   4          现在如果把东西寄存在别人处  0\n",
       "5   5         南北朝所以不治 文采胜质厚也  1\n",
       "6   6     而流贼进攻更急 城里有许多不同的意见  0\n",
       "7   7            吾上有三兄 皆不幸早世  1\n",
       "8   8             没有人不讲究熏衣剃面  0\n",
       "9   9                   王曰 善  1"
      ]
     },
     "execution_count": 1,
     "metadata": {},
     "output_type": "execute_result"
    }
   ],
   "source": [
    "import numpy as np\n",
    "import pandas as pd\n",
    "\n",
    "train_set = pd.read_csv('./data/train.txt')\n",
    "unlabeled_set = pd.read_csv('./data/test.txt')\n",
    "\n",
    "train_set.head(10)"
   ]
  },
  {
   "cell_type": "markdown",
   "metadata": {},
   "source": [
    "#### Let's split our data into vernacular and classical subsets to visualize everything easier."
   ]
  },
  {
   "cell_type": "code",
   "execution_count": 2,
   "metadata": {},
   "outputs": [],
   "source": [
    "# Get rid of 'id' column\n",
    "train_set.drop('id', axis=1, inplace=True)\n",
    "unlabeled_set.drop('id', axis=1, inplace=True)\n",
    "\n",
    "# Per literary tradition, the task of adding breaks and pauses while reading a text is the responsibility of the reader;\n",
    "# We should probably remove any spaces in our file, lest our model trains itself to recognize spaces as indicators of classical/vernacular Chinese.\n",
    "\n",
    "train_set['text'] = train_set['text'].str.replace(' ', '')\n",
    "unlabeled_set['text'] = unlabeled_set['text'].str.replace(' ', '')"
   ]
  },
  {
   "cell_type": "code",
   "execution_count": 3,
   "metadata": {},
   "outputs": [],
   "source": [
    "ind_vernacular = train_set['y'] == 0\n",
    "ind_classical  = train_set['y'] == 1\n",
    "\n",
    "vernacular = train_set[ind_vernacular]\n",
    "classical  = train_set[ind_classical]"
   ]
  },
  {
   "cell_type": "markdown",
   "metadata": {},
   "source": [
    "#### Taking a look at the most common characters in each subset:"
   ]
  },
  {
   "cell_type": "code",
   "execution_count": 4,
   "metadata": {},
   "outputs": [
    {
     "name": "stdout",
     "output_type": "stream",
     "text": [
      "Most common vernacular characters:\n",
      "1. 的: 1287 instances\n",
      "2. 不: 508 instances\n",
      "3. 人: 429 instances\n",
      "4. 是: 396 instances\n",
      "5. 了: 390 instances\n",
      "6. 有: 385 instances\n",
      "7. 一: 338 instances\n",
      "8. 来: 271 instances\n",
      "9. 他: 268 instances\n",
      "10. 我: 266 instances\n",
      "\n",
      "Most common classical characters:\n",
      "1. 之: 1265 instances\n",
      "2. 不: 703 instances\n",
      "3. 而: 586 instances\n",
      "4. 以: 516 instances\n",
      "5. 也: 453 instances\n",
      "6. 其: 433 instances\n",
      "7. 为: 404 instances\n",
      "8. 者: 378 instances\n",
      "9. 人: 374 instances\n",
      "10. 于: 321 instances\n",
      "\n"
     ]
    }
   ],
   "source": [
    "from collections import Counter\n",
    "\n",
    "st_names, ind = ['vernacular', 'classical'], 0\n",
    "for st in [vernacular, classical]:\n",
    "    cnt = Counter()\n",
    "    \n",
    "    for inst in range(len(st)):\n",
    "        ln = st.iloc[inst, 0]\n",
    "        \n",
    "        for char in ln:\n",
    "            cnt[char] += 1\n",
    "            \n",
    "        com = cnt.most_common(10)\n",
    "        \n",
    "    print('Most common', st_names[ind], 'characters:')\n",
    "    \n",
    "    for i, c in enumerate(com):\n",
    "        print(str(i+1)+'.', c[0]+':', c[1], 'instances')\n",
    "        \n",
    "    print()\n",
    "    ind += 1"
   ]
  },
  {
   "cell_type": "markdown",
   "metadata": {},
   "source": [
    "#### This looks very reasonable! Now we can vectorize the sentences and create a model:"
   ]
  },
  {
   "cell_type": "code",
   "execution_count": 5,
   "metadata": {},
   "outputs": [],
   "source": [
    "from gensim.models import Word2Vec\n",
    "model = Word2Vec(sentences=train_set['text']) # Leaving other parameters as default"
   ]
  },
  {
   "cell_type": "markdown",
   "metadata": {},
   "source": [
    "#### To make sure our model works correctly, we can query some characters and ask it to return the most 'similar' characters.\n",
    "#### For instance, if we query 「矣」 we should expect to get a list of other common characters used in classical Chinese (with respect to our data, at least), since we know that 「矣」 appears in classical Chinese much more often than it does in vernacular.\n",
    "#### On the other hand, if we query 「天」 we should expect to get a list of characters that we can expect to see in both vernacular and classical Chinese, since we know that 「天」 shows up more or less frequently in both."
   ]
  },
  {
   "cell_type": "code",
   "execution_count": 6,
   "metadata": {},
   "outputs": [
    {
     "name": "stdout",
     "output_type": "stream",
     "text": [
      "矣\n",
      "则而乃欲衣民故言为于\n",
      "\n",
      "天\n",
      "风云法着及游非城孙往\n",
      "\n"
     ]
    }
   ],
   "source": [
    "chars_list = [['矣'], model.wv.most_similar('矣', topn=10), ['天'], model.wv.most_similar('天', topn=10)]\n",
    "\n",
    "for chars in chars_list:\n",
    "    out = ''\n",
    "    \n",
    "    for char in chars:\n",
    "        out += char[0]\n",
    "    print(out)\n",
    "    \n",
    "    if len(char) != 1:\n",
    "        print()"
   ]
  },
  {
   "cell_type": "markdown",
   "metadata": {},
   "source": [
    "#### Now we have to vectorize our feature matrix:"
   ]
  },
  {
   "cell_type": "code",
   "execution_count": 7,
   "metadata": {},
   "outputs": [],
   "source": [
    "m = len(train_set) + len(unlabeled_set)\n",
    "dims = 100\n",
    "\n",
    "vector = np.zeros([m, dims])\n",
    "\n",
    "text = list(train_set['text']) + list(unlabeled_set['text'])\n",
    "for ind, ln in enumerate(text):\n",
    "    cnts, row = 0, 0\n",
    "    \n",
    "    for char in ln:\n",
    "        try:\n",
    "            row += model.wv[char]\n",
    "            cnts += 1\n",
    "            \n",
    "        except:\n",
    "            pass\n",
    "        \n",
    "    vector[ind, :] = row / cnts"
   ]
  },
  {
   "cell_type": "markdown",
   "metadata": {},
   "source": [
    "#### Splitting vectorized feature matrix into training and testing subsets:"
   ]
  },
  {
   "cell_type": "code",
   "execution_count": 8,
   "metadata": {},
   "outputs": [],
   "source": [
    "from sklearn.model_selection import train_test_split\n",
    "A = vector[:len(train_set)]\n",
    "B = np.transpose(np.array([train_set['y']]))\n",
    "\n",
    "vectorized_mat = np.concatenate([A, B], axis=1)\n",
    "n = len(vectorized_mat[0])\n",
    "\n",
    "X = vectorized_mat[:,:n-1]\n",
    "y = vectorized_mat[:,n-1]\n",
    "\n",
    "X_unlabeled = vector[len(train_set):]\n",
    "\n",
    "X_train, X_test, y_train, y_test = train_test_split(X, y, test_size=0.2, random_state=0)"
   ]
  },
  {
   "cell_type": "markdown",
   "metadata": {},
   "source": [
    "#### Let's try to use a random forest to classify our data. \n",
    "\n",
    "#### Since we don't know what the maximum depth of each decision tree should be, we can try a range of values to find a balance between having an accurate model and overfitting the data."
   ]
  },
  {
   "cell_type": "code",
   "execution_count": 9,
   "metadata": {},
   "outputs": [],
   "source": [
    "from sklearn.ensemble import RandomForestClassifier\n",
    "\n",
    "train_acc = []\n",
    "test_acc = []\n",
    "\n",
    "# Try changing the max_depth in the RandomForestClassifier\n",
    "# and recording the training and testing accuracies\n",
    "\n",
    "depth = range(3, 11)\n",
    "for n_depth in depth:\n",
    "    forest = RandomForestClassifier(n_estimators=100, max_depth=n_depth, n_jobs=-1, random_state=0)\n",
    "    forest.fit(X_train, y_train)\n",
    "    \n",
    "    train_acc.append(forest.score(X_train, y_train))\n",
    "    test_acc.append(forest.score(X_test, y_test))"
   ]
  },
  {
   "cell_type": "markdown",
   "metadata": {},
   "source": [
    "#### Hopefully we can gain some insight from plotting the training and testing accuracies."
   ]
  },
  {
   "cell_type": "code",
   "execution_count": 10,
   "metadata": {},
   "outputs": [
    {
     "data": {
      "image/png": "[encoded data removed]",
      "text/plain": [
       "<Figure size 576x396 with 1 Axes>"
      ]
     },
     "metadata": {},
     "output_type": "display_data"
    }
   ],
   "source": [
    "import matplotlib.pyplot as plt\n",
    "from matplotlib import style\n",
    "%matplotlib inline\n",
    "style.use('seaborn')\n",
    "\n",
    "plt.title('Training and testing accuracies vs. Max depth')\n",
    "plt.plot(\n",
    "         depth, \n",
    "         train_acc, \n",
    "         label='training accuracies', \n",
    "         color='green'\n",
    ")\n",
    "plt.plot(\n",
    "         depth, \n",
    "         test_acc, \n",
    "         label='testing accuracies', \n",
    "         color='blue'\n",
    ")\n",
    "plt.xlabel('Max depth')\n",
    "plt.ylabel('Accuracy')\n",
    "plt.legend()\n",
    "plt.show()"
   ]
  },
  {
   "cell_type": "markdown",
   "metadata": {},
   "source": [
    "#### A max depth of 7 looks pretty good, so we can make a new model based on that:"
   ]
  },
  {
   "cell_type": "code",
   "execution_count": 11,
   "metadata": {},
   "outputs": [
    {
     "data": {
      "text/plain": [
       "RandomForestClassifier(bootstrap=True, class_weight=None, criterion='gini',\n",
       "            max_depth=7, max_features='auto', max_leaf_nodes=None,\n",
       "            min_impurity_decrease=0.0, min_impurity_split=None,\n",
       "            min_samples_leaf=1, min_samples_split=2,\n",
       "            min_weight_fraction_leaf=0.0, n_estimators=100, n_jobs=-1,\n",
       "            oob_score=False, random_state=0, verbose=0, warm_start=False)"
      ]
     },
     "execution_count": 11,
     "metadata": {},
     "output_type": "execute_result"
    }
   ],
   "source": [
    "forest = RandomForestClassifier(n_estimators=100, max_depth=7, n_jobs=-1, random_state=0)\n",
    "forest.fit(X_train, y_train)"
   ]
  },
  {
   "cell_type": "markdown",
   "metadata": {},
   "source": [
    "#### We can now take the unlabeled data from before and make predictions:"
   ]
  },
  {
   "cell_type": "code",
   "execution_count": 12,
   "metadata": {},
   "outputs": [
    {
     "data": {
      "text/html": [
       "<div>\n",
       "<style scoped>\n",
       "    .dataframe tbody tr th:only-of-type {\n",
       "        vertical-align: middle;\n",
       "    }\n",
       "\n",
       "    .dataframe tbody tr th {\n",
       "        vertical-align: top;\n",
       "    }\n",
       "\n",
       "    .dataframe thead th {\n",
       "        text-align: right;\n",
       "    }\n",
       "</style>\n",
       "<table border=\"1\" class=\"dataframe\">\n",
       "  <thead>\n",
       "    <tr style=\"text-align: right;\">\n",
       "      <th></th>\n",
       "      <th>text</th>\n",
       "      <th>prediction</th>\n",
       "    </tr>\n",
       "  </thead>\n",
       "  <tbody>\n",
       "    <tr>\n",
       "      <th>0</th>\n",
       "      <td>后来又合并为七个强国</td>\n",
       "      <td>vernacular</td>\n",
       "    </tr>\n",
       "    <tr>\n",
       "      <th>1</th>\n",
       "      <td>与吾父居者今其室十无二三焉</td>\n",
       "      <td>classical</td>\n",
       "    </tr>\n",
       "    <tr>\n",
       "      <th>2</th>\n",
       "      <td>那么政局就会安定了</td>\n",
       "      <td>vernacular</td>\n",
       "    </tr>\n",
       "    <tr>\n",
       "      <th>3</th>\n",
       "      <td>我资米若薪于百姓后之人必尔乎索之</td>\n",
       "      <td>classical</td>\n",
       "    </tr>\n",
       "    <tr>\n",
       "      <th>4</th>\n",
       "      <td>昔虞国宫之奇少长於君君狎之</td>\n",
       "      <td>classical</td>\n",
       "    </tr>\n",
       "  </tbody>\n",
       "</table>\n",
       "</div>"
      ],
      "text/plain": [
       "               text  prediction\n",
       "0        后来又合并为七个强国  vernacular\n",
       "1     与吾父居者今其室十无二三焉   classical\n",
       "2         那么政局就会安定了  vernacular\n",
       "3  我资米若薪于百姓后之人必尔乎索之   classical\n",
       "4     昔虞国宫之奇少长於君君狎之   classical"
      ]
     },
     "execution_count": 12,
     "metadata": {},
     "output_type": "execute_result"
    }
   ],
   "source": [
    "pred = forest.predict(X_unlabeled)\n",
    "pred = pd.DataFrame(pred, columns=['prediction'])\n",
    "\n",
    "pred.replace(to_replace=0.0, value='vernacular', inplace=True)\n",
    "pred.replace(to_replace=1.0, value='classical', inplace=True)\n",
    "\n",
    "final = pd.concat([unlabeled_set, pred], axis=1)\n",
    "final.head()"
   ]
  },
  {
   "cell_type": "markdown",
   "metadata": {},
   "source": [
    "#### Judging from the first five sentences in the unlabeled dataset, it looks like our classifier is working very well - there doesn't seem to be anything wrong here. We should revisit the labeled data from earlier and see where our classifier makes a mistake."
   ]
  },
  {
   "cell_type": "code",
   "execution_count": 13,
   "metadata": {},
   "outputs": [],
   "source": [
    "X_train_predict = forest.predict(X_train)\n",
    "errors = X_train_predict != y_train\n",
    "error_lines = X_train[errors]"
   ]
  },
  {
   "cell_type": "markdown",
   "metadata": {},
   "source": [
    "#### Our strategy is just to pick several mistakenly classified sentences and print them out."
   ]
  },
  {
   "cell_type": "code",
   "execution_count": 14,
   "metadata": {},
   "outputs": [
    {
     "name": "stdout",
     "output_type": "stream",
     "text": [
      "Actual: Classical\n",
      "北定中原庶竭驽钝攘除奸凶兴复汉室还于旧都\n",
      "\n",
      "Actual: Vernacular\n",
      "年成丰收而您的夫人却仍为食粮不足而啼说饥饿\n",
      "\n",
      "Actual: Vernacular\n",
      "武夫则练习骑马射箭文士则研究议论经书\n",
      "\n",
      "Actual: Classical\n",
      "玉斗一双再拜奉大将军足下\n",
      "\n",
      "Actual: Vernacular\n",
      "傅玄因愤争而免官\n",
      "\n"
     ]
    }
   ],
   "source": [
    "for i in range(5):\n",
    "    for ind in range(0, len(vector)):\n",
    "        if np.array_equal(error_lines[i], vector[ind]):\n",
    "            if train_set.iloc[ind,1] == 0:\n",
    "                print('Actual: Vernacular')\n",
    "            else:\n",
    "                print('Actual: Classical')\n",
    "            print(train_set.iloc[ind,0])\n",
    "            print()"
   ]
  },
  {
   "cell_type": "markdown",
   "metadata": {},
   "source": [
    "#### The mistakes seem generally understandable - the second and fourth lines in particular are written quite ambiguously. It's likely that people without prior exposure to classical Chinese would have made similar errors."
   ]
  }
 ],
 "metadata": {
  "kernelspec": {
   "display_name": "Python 3",
   "language": "python",
   "name": "python3"
  },
  "language_info": {
   "codemirror_mode": {
    "name": "ipython",
    "version": 3
   },
   "file_extension": ".py",
   "mimetype": "text/x-python",
   "name": "python",
   "nbconvert_exporter": "python",
   "pygments_lexer": "ipython3",
   "version": "3.6.1"
  }
 },
 "nbformat": 4,
 "nbformat_minor": 2
}
